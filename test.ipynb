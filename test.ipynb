{
 "cells": [
  {
   "cell_type": "code",
   "execution_count": null,
   "id": "a86b12e8",
   "metadata": {},
   "outputs": [],
   "source": [
    "print('Hello SH')"
   ]
  },
  {
   "cell_type": "markdown",
   "id": "b9a5ff91",
   "metadata": {},
   "source": [
    "# 죽고싶다 진짜"
   ]
  }
 ],
 "metadata": {
  "language_info": {
   "name": "python"
  }
 },
 "nbformat": 4,
 "nbformat_minor": 5
}
